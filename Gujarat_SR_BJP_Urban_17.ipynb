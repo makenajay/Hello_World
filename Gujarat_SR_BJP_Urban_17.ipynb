{
  "cells": [
    {
      "cell_type": "markdown",
      "metadata": {
        "id": "view-in-github",
        "colab_type": "text"
      },
      "source": [
        "<a href=\"https://colab.research.google.com/github/makenajay/Hello_World/blob/main/Gujarat_SR_BJP_Urban_17.ipynb\" target=\"_parent\"><img src=\"https://colab.research.google.com/assets/colab-badge.svg\" alt=\"Open In Colab\"/></a>"
      ]
    },
    {
      "cell_type": "code",
      "execution_count": null,
      "id": "848bb3f5",
      "metadata": {
        "id": "848bb3f5"
      },
      "outputs": [],
      "source": [
        "import numpy as np\n",
        "import pandas as pd\n",
        "import matplotlib.pyplot as plt\n",
        "import math\n",
        "import statistics"
      ]
    },
    {
      "cell_type": "code",
      "source": [
        "from google.colab import files\n",
        "uploaded = files.upload()"
      ],
      "metadata": {
        "colab": {
          "base_uri": "https://localhost:8080/",
          "height": 73
        },
        "id": "Ugty3ShDYgmB",
        "outputId": "d60f1f87-5a4a-4392-a84b-bcf80c20dd1b"
      },
      "id": "Ugty3ShDYgmB",
      "execution_count": null,
      "outputs": [
        {
          "output_type": "display_data",
          "data": {
            "text/plain": [
              "<IPython.core.display.HTML object>"
            ],
            "text/html": [
              "\n",
              "     <input type=\"file\" id=\"files-8fccf9c6-213d-48f8-8358-6556e6397fab\" name=\"files[]\" multiple disabled\n",
              "        style=\"border:none\" />\n",
              "     <output id=\"result-8fccf9c6-213d-48f8-8358-6556e6397fab\">\n",
              "      Upload widget is only available when the cell has been executed in the\n",
              "      current browser session. Please rerun this cell to enable.\n",
              "      </output>\n",
              "      <script>// Copyright 2017 Google LLC\n",
              "//\n",
              "// Licensed under the Apache License, Version 2.0 (the \"License\");\n",
              "// you may not use this file except in compliance with the License.\n",
              "// You may obtain a copy of the License at\n",
              "//\n",
              "//      http://www.apache.org/licenses/LICENSE-2.0\n",
              "//\n",
              "// Unless required by applicable law or agreed to in writing, software\n",
              "// distributed under the License is distributed on an \"AS IS\" BASIS,\n",
              "// WITHOUT WARRANTIES OR CONDITIONS OF ANY KIND, either express or implied.\n",
              "// See the License for the specific language governing permissions and\n",
              "// limitations under the License.\n",
              "\n",
              "/**\n",
              " * @fileoverview Helpers for google.colab Python module.\n",
              " */\n",
              "(function(scope) {\n",
              "function span(text, styleAttributes = {}) {\n",
              "  const element = document.createElement('span');\n",
              "  element.textContent = text;\n",
              "  for (const key of Object.keys(styleAttributes)) {\n",
              "    element.style[key] = styleAttributes[key];\n",
              "  }\n",
              "  return element;\n",
              "}\n",
              "\n",
              "// Max number of bytes which will be uploaded at a time.\n",
              "const MAX_PAYLOAD_SIZE = 100 * 1024;\n",
              "\n",
              "function _uploadFiles(inputId, outputId) {\n",
              "  const steps = uploadFilesStep(inputId, outputId);\n",
              "  const outputElement = document.getElementById(outputId);\n",
              "  // Cache steps on the outputElement to make it available for the next call\n",
              "  // to uploadFilesContinue from Python.\n",
              "  outputElement.steps = steps;\n",
              "\n",
              "  return _uploadFilesContinue(outputId);\n",
              "}\n",
              "\n",
              "// This is roughly an async generator (not supported in the browser yet),\n",
              "// where there are multiple asynchronous steps and the Python side is going\n",
              "// to poll for completion of each step.\n",
              "// This uses a Promise to block the python side on completion of each step,\n",
              "// then passes the result of the previous step as the input to the next step.\n",
              "function _uploadFilesContinue(outputId) {\n",
              "  const outputElement = document.getElementById(outputId);\n",
              "  const steps = outputElement.steps;\n",
              "\n",
              "  const next = steps.next(outputElement.lastPromiseValue);\n",
              "  return Promise.resolve(next.value.promise).then((value) => {\n",
              "    // Cache the last promise value to make it available to the next\n",
              "    // step of the generator.\n",
              "    outputElement.lastPromiseValue = value;\n",
              "    return next.value.response;\n",
              "  });\n",
              "}\n",
              "\n",
              "/**\n",
              " * Generator function which is called between each async step of the upload\n",
              " * process.\n",
              " * @param {string} inputId Element ID of the input file picker element.\n",
              " * @param {string} outputId Element ID of the output display.\n",
              " * @return {!Iterable<!Object>} Iterable of next steps.\n",
              " */\n",
              "function* uploadFilesStep(inputId, outputId) {\n",
              "  const inputElement = document.getElementById(inputId);\n",
              "  inputElement.disabled = false;\n",
              "\n",
              "  const outputElement = document.getElementById(outputId);\n",
              "  outputElement.innerHTML = '';\n",
              "\n",
              "  const pickedPromise = new Promise((resolve) => {\n",
              "    inputElement.addEventListener('change', (e) => {\n",
              "      resolve(e.target.files);\n",
              "    });\n",
              "  });\n",
              "\n",
              "  const cancel = document.createElement('button');\n",
              "  inputElement.parentElement.appendChild(cancel);\n",
              "  cancel.textContent = 'Cancel upload';\n",
              "  const cancelPromise = new Promise((resolve) => {\n",
              "    cancel.onclick = () => {\n",
              "      resolve(null);\n",
              "    };\n",
              "  });\n",
              "\n",
              "  // Wait for the user to pick the files.\n",
              "  const files = yield {\n",
              "    promise: Promise.race([pickedPromise, cancelPromise]),\n",
              "    response: {\n",
              "      action: 'starting',\n",
              "    }\n",
              "  };\n",
              "\n",
              "  cancel.remove();\n",
              "\n",
              "  // Disable the input element since further picks are not allowed.\n",
              "  inputElement.disabled = true;\n",
              "\n",
              "  if (!files) {\n",
              "    return {\n",
              "      response: {\n",
              "        action: 'complete',\n",
              "      }\n",
              "    };\n",
              "  }\n",
              "\n",
              "  for (const file of files) {\n",
              "    const li = document.createElement('li');\n",
              "    li.append(span(file.name, {fontWeight: 'bold'}));\n",
              "    li.append(span(\n",
              "        `(${file.type || 'n/a'}) - ${file.size} bytes, ` +\n",
              "        `last modified: ${\n",
              "            file.lastModifiedDate ? file.lastModifiedDate.toLocaleDateString() :\n",
              "                                    'n/a'} - `));\n",
              "    const percent = span('0% done');\n",
              "    li.appendChild(percent);\n",
              "\n",
              "    outputElement.appendChild(li);\n",
              "\n",
              "    const fileDataPromise = new Promise((resolve) => {\n",
              "      const reader = new FileReader();\n",
              "      reader.onload = (e) => {\n",
              "        resolve(e.target.result);\n",
              "      };\n",
              "      reader.readAsArrayBuffer(file);\n",
              "    });\n",
              "    // Wait for the data to be ready.\n",
              "    let fileData = yield {\n",
              "      promise: fileDataPromise,\n",
              "      response: {\n",
              "        action: 'continue',\n",
              "      }\n",
              "    };\n",
              "\n",
              "    // Use a chunked sending to avoid message size limits. See b/62115660.\n",
              "    let position = 0;\n",
              "    do {\n",
              "      const length = Math.min(fileData.byteLength - position, MAX_PAYLOAD_SIZE);\n",
              "      const chunk = new Uint8Array(fileData, position, length);\n",
              "      position += length;\n",
              "\n",
              "      const base64 = btoa(String.fromCharCode.apply(null, chunk));\n",
              "      yield {\n",
              "        response: {\n",
              "          action: 'append',\n",
              "          file: file.name,\n",
              "          data: base64,\n",
              "        },\n",
              "      };\n",
              "\n",
              "      let percentDone = fileData.byteLength === 0 ?\n",
              "          100 :\n",
              "          Math.round((position / fileData.byteLength) * 100);\n",
              "      percent.textContent = `${percentDone}% done`;\n",
              "\n",
              "    } while (position < fileData.byteLength);\n",
              "  }\n",
              "\n",
              "  // All done.\n",
              "  yield {\n",
              "    response: {\n",
              "      action: 'complete',\n",
              "    }\n",
              "  };\n",
              "}\n",
              "\n",
              "scope.google = scope.google || {};\n",
              "scope.google.colab = scope.google.colab || {};\n",
              "scope.google.colab._files = {\n",
              "  _uploadFiles,\n",
              "  _uploadFilesContinue,\n",
              "};\n",
              "})(self);\n",
              "</script> "
            ]
          },
          "metadata": {}
        },
        {
          "output_type": "stream",
          "name": "stdout",
          "text": [
            "Saving BJP_StrikeRate_Urban_2017.csv to BJP_StrikeRate_Urban_2017 (1).csv\n"
          ]
        }
      ]
    },
    {
      "cell_type": "code",
      "execution_count": null,
      "id": "91f68ee0",
      "metadata": {
        "colab": {
          "base_uri": "https://localhost:8080/"
        },
        "id": "91f68ee0",
        "outputId": "da9573ae-2c4b-4aa0-9c7c-cdc48afbd712"
      },
      "outputs": [
        {
          "output_type": "stream",
          "name": "stdout",
          "text": [
            "(182,)\n",
            "<class 'numpy.ndarray'>\n",
            "(182, 1) (182,)\n"
          ]
        }
      ],
      "source": [
        "# Creat DataFrame\n",
        "guj_BJP_urban_SR = pd.read_csv (r\"BJP_StrikeRate_Urban_2017.csv\")\n",
        "guj_SR = guj_BJP_urban_SR\n",
        "guj_SR = guj_SR[guj_SR.URBAN >= 0]\n",
        "guj_SR = guj_SR[guj_SR.URBAN <= 100]\n",
        "guj_SR['URBAN'] = (guj_SR['URBAN'] / 100).round(2)\n",
        "guj_SR = guj_SR.reset_index()\n",
        "guj_SR = guj_SR[[\"BJP_URBAN_SR\", \"URBAN\"]]\n",
        "# Create X from the \"URBAN\" values of dataframe guj_SR\n",
        "X_train = guj_SR[\"URBAN\"].values\n",
        "# Create y from the \"BJP_URBAN_SR\" values of dataframe guj_SR\n",
        "y_train = guj_SR[\"BJP_URBAN_SR\"].values\n",
        "X_train = np.array(X_train)\n",
        "y_train = np.array(y_train)\n",
        "print(X_train.shape)\n",
        "print(type(X_train))\n",
        "\n",
        "# Reshape X\n",
        "# Reshape is rquire dor x only in sklearn by x_train = x_train.reshape(-1,1)\n",
        "X_train = X_train.reshape(-1,1)\n",
        "# Check the shape of the features and targets\n",
        "print(X_train.shape, y_train.shape)\n"
      ]
    },
    {
      "cell_type": "markdown",
      "id": "59b9797c",
      "metadata": {
        "id": "59b9797c"
      },
      "source": [
        "## COMPUTE COST FUNCTION- STEP 1"
      ]
    },
    {
      "cell_type": "code",
      "execution_count": null,
      "id": "511ecd7f",
      "metadata": {
        "id": "511ecd7f"
      },
      "outputs": [],
      "source": [
        "#Function to calculate the cost\n",
        "def compute_cost(x, y, w, b):\n",
        "   \n",
        "    m = x.shape[0] \n",
        "    cost = 0\n",
        " \n",
        "  \n",
        "    for i in range(m):\n",
        "        f_wb = w * x[i] + b\n",
        "        error = f_wb - y[i]\n",
        "        cost = cost + error**2\n",
        "    total_cost = 1 / (2 * m) * cost\n",
        "\n",
        "    return total_cost"
      ]
    },
    {
      "cell_type": "markdown",
      "id": "c1aa9dc8",
      "metadata": {
        "id": "c1aa9dc8"
      },
      "source": [
        "## COMPUTE GRADIENT FUNCTION- STEP 2"
      ]
    },
    {
      "cell_type": "code",
      "execution_count": null,
      "id": "0ea00481",
      "metadata": {
        "id": "0ea00481"
      },
      "outputs": [],
      "source": [
        "def compute_gradient(x, y, w, b): \n",
        "    \"\"\"\n",
        "    Computes the gradient for linear regression \n",
        "    Args:\n",
        "      x (ndarray (m,)): Data, m examples \n",
        "      y (ndarray (m,)): target values\n",
        "      w,b (scalar)    : model parameters  \n",
        "    Returns\n",
        "      dj_dw (scalar): The gradient of the cost w.r.t. the parameters w\n",
        "      dj_db (scalar): The gradient of the cost w.r.t. the parameter b     \n",
        "     \"\"\"\n",
        "    \n",
        "    \n",
        "    m, n = x.shape    # Number of training examples\n",
        "    dj_dw = 0         # Starting of the list dj_dw is 0\n",
        "    dj_db = 0         # Starting of the list dj_db is 0\n",
        "    \n",
        "    for i in range(m):  \n",
        "        f_wb = w * x[i] + b \n",
        "        dj_dw_i = (f_wb - y[i]) * x[i] \n",
        "        dj_db_i = f_wb - y[i] \n",
        "        dj_db += dj_db_i\n",
        "        dj_dw += dj_dw_i \n",
        "    dj_dw = dj_dw / m \n",
        "    dj_db = dj_db / m \n",
        "        \n",
        "    return dj_dw, dj_db"
      ]
    },
    {
      "cell_type": "code",
      "execution_count": null,
      "id": "dd77ce40",
      "metadata": {
        "colab": {
          "base_uri": "https://localhost:8080/",
          "height": 265
        },
        "id": "dd77ce40",
        "outputId": "acc3ed73-d210-42c6-9d92-3857e528a008"
      },
      "outputs": [
        {
          "output_type": "display_data",
          "data": {
            "text/plain": [
              "<Figure size 432x288 with 1 Axes>"
            ],
            "image/png": "[encoded data removed]"
          },
          "metadata": {
            "needs_background": "light"
          }
        }
      ],
      "source": [
        "plt.scatter(X_train,y_train, color=\"blue\")\n",
        "plt.ylim([0.3, 0.58])\n",
        "plt.show()"
      ]
    },
    {
      "cell_type": "markdown",
      "id": "e866ccee",
      "metadata": {
        "id": "e866ccee"
      },
      "source": [
        "## GRADIENT DESCENT- STEP 3"
      ]
    },
    {
      "cell_type": "markdown",
      "id": "40cc9c84",
      "metadata": {
        "id": "40cc9c84"
      },
      "source": [
        "<a name=\"toc_40291_2.5\"></a>\n",
        "###  Gradient Descent - Implementing equation by utilizing 'compute_gradient' and 'compute_cost'\n"
      ]
    },
    {
      "cell_type": "code",
      "execution_count": null,
      "id": "ed2dd6b1",
      "metadata": {
        "id": "ed2dd6b1"
      },
      "outputs": [],
      "source": [
        "def gradient_descent(x, y, w_in, b_in, alpha, num_iters, cost_function, gradient_function): \n",
        "    \"\"\"\n",
        "    Performs gradient descent to fit w,b. Updates w,b by taking \n",
        "    num_iters gradient steps with learning rate alpha\n",
        "    \n",
        "    Args:\n",
        "      x (ndarray (m,))  : Data, m examples \n",
        "      y (ndarray (m,))  : target values\n",
        "      w_in,b_in (scalar): initial values of model parameters  \n",
        "      alpha (float):     Learning rate\n",
        "      num_iters (int):   number of iterations to run gradient descent\n",
        "      cost_function:     function to call to produce cost\n",
        "      gradient_function: function to call to produce gradient\n",
        "      \n",
        "    Returns:\n",
        "      w (scalar): Updated value of parameter after running gradient descent\n",
        "      b (scalar): Updated value of parameter after running gradient descent\n",
        "      J_history (List): History of cost values\n",
        "      p_history (list): History of parameters [w,b] \n",
        "      \"\"\"\n",
        "    \n",
        "   \n",
        "    # An array to store cost J and w's at each iteration primarily for graphing later\n",
        "    J_history = []\n",
        "    p_history = []\n",
        "    b = b_in\n",
        "    w = w_in\n",
        "    \n",
        "    for i in range(num_iters):\n",
        "        # Calculate the gradient and update the parameters using gradient_function\n",
        "        dj_dw, dj_db = gradient_function(x, y, w , b)     \n",
        "\n",
        "        # Update Parameters using equation (3) above\n",
        "        b = b - alpha * dj_db                            \n",
        "        w = w - alpha * dj_dw                            \n",
        "\n",
        "        # Save cost J at each iteration\n",
        "        if i<100000:      # prevent resource exhaustion \n",
        "            J_history.append( cost_function(x, y, w , b))\n",
        "            p_history.append([w,b])\n",
        "        # Print cost every at intervals 10 times or as many iterations if < 10\n",
        "        if i% math.ceil(num_iters/10) == 0 :\n",
        "            print(f\"Iteration {i:4}: Cost {float(J_history[-1]):8.2f}   \")\n",
        " \n",
        "    return w, b, J_history, p_history #return w and J,w history for graphing"
      ]
    },
    {
      "cell_type": "code",
      "execution_count": null,
      "id": "7cb0e265",
      "metadata": {
        "colab": {
          "base_uri": "https://localhost:8080/"
        },
        "id": "7cb0e265",
        "outputId": "11a0f0e3-a5ee-48d5-d523-d5913296588e"
      },
      "outputs": [
        {
          "output_type": "stream",
          "name": "stdout",
          "text": [
            "Iteration    0: Cost     0.09   \n",
            "Iteration 10000: Cost     0.00   \n",
            "Iteration 20000: Cost     0.00   \n",
            "Iteration 30000: Cost     0.00   \n",
            "Iteration 40000: Cost     0.00   \n",
            "Iteration 50000: Cost     0.00   \n",
            "Iteration 60000: Cost     0.00   \n",
            "Iteration 70000: Cost     0.00   \n",
            "Iteration 80000: Cost     0.00   \n",
            "Iteration 90000: Cost     0.00   \n",
            "[0.13905491] [0.35555456]\n"
          ]
        }
      ],
      "source": [
        "# initialize parameters\n",
        "w_init = 0\n",
        "b_init = 0\n",
        "# some gradient descent settings\n",
        "iterations = 100000\n",
        "tmp_alpha = .001\n",
        "# run gradient descent\n",
        "w_final, b_final, J_hist, p_hist = gradient_descent(X_train ,y_train, w_init, b_init, tmp_alpha, \n",
        "                                                    iterations, compute_cost, compute_gradient)\n",
        "print(w_final, b_final)"
      ]
    },
    {
      "cell_type": "markdown",
      "id": "98342753",
      "metadata": {
        "id": "98342753"
      },
      "source": [
        "## CALCULATE w AND b USING sklearn- Both the intercept and coefficients match with the above calculations"
      ]
    },
    {
      "cell_type": "code",
      "execution_count": null,
      "id": "cf3dcd86",
      "metadata": {
        "colab": {
          "base_uri": "https://localhost:8080/"
        },
        "id": "cf3dcd86",
        "outputId": "0c8e44c4-6fce-48e5-aebe-80828f240ae5"
      },
      "outputs": [
        {
          "output_type": "stream",
          "name": "stdout",
          "text": [
            "w = [0.13905436]\n",
            "b = 0.356\n"
          ]
        }
      ],
      "source": [
        "from sklearn.linear_model import LinearRegression\n",
        "linear_model = LinearRegression()\n",
        "#X must be a 2-D Matrix\n",
        "linear_model.fit(X_train.reshape(-1, 1), y_train)\n",
        "\n",
        "b = linear_model.intercept_\n",
        "w = linear_model.coef_\n",
        "print(f\"w = {w:}\")\n",
        "print(f\"b = {b:0.3f}\")"
      ]
    },
    {
      "cell_type": "markdown",
      "id": "53c6d9ad",
      "metadata": {
        "id": "53c6d9ad"
      },
      "source": [
        "## USING sklearn TRAIN, TEST AND CHECK SCORE"
      ]
    },
    {
      "cell_type": "code",
      "execution_count": null,
      "id": "91795729",
      "metadata": {
        "colab": {
          "base_uri": "https://localhost:8080/"
        },
        "id": "91795729",
        "outputId": "7ec77634-8fc6-4cc0-ab73-1d945f655cc4"
      },
      "outputs": [
        {
          "output_type": "stream",
          "name": "stdout",
          "text": [
            "Predictions: [0.36394006 0.36962408 0.49751458], Actual Values: [0.4        0.37209302 0.47741935]\n"
          ]
        }
      ],
      "source": [
        "from sklearn.model_selection import train_test_split\n",
        "from sklearn.linear_model import LinearRegression\n",
        "\n",
        "# get the data and prepare\n",
        "guj_BJP_urban_SR = pd.read_csv (r\"BJP_StrikeRate_Urban_2017.csv\")\n",
        "guj_SR = guj_BJP_urban_SR\n",
        "guj_SR = guj_SR[guj_SR.URBAN >= 0]\n",
        "guj_SR = guj_SR[guj_SR.URBAN <= 100]\n",
        "guj_SR['URBAN'] = (guj_SR['URBAN'] / 100).round(2)\n",
        "guj_SR = guj_SR.reset_index()\n",
        "guj_SR = guj_SR[[\"BJP_URBAN_SR\", \"URBAN\"]]\n",
        "\n",
        "# Create X and y arrays\n",
        "X_guj_SR = guj_SR[\"URBAN\"].values\n",
        "y_guj_SR = guj_SR[\"BJP_URBAN_SR\"].values\n",
        "X_guj_SR = X_guj_SR.reshape(-1,1)\n",
        "X_train, X_test, y_train, y_test = train_test_split(X_guj_SR, y_guj_SR, test_size=0.3, random_state=42)\n",
        "\n",
        "# Instantiate the model\n",
        "reg = LinearRegression()\n",
        "\n",
        "# Fit the model to the data\n",
        "reg.fit(X_train,y_train)\n",
        "\n",
        "# Make predictions\n",
        "yHat = reg.predict(X_test)\n",
        "yHat_all = reg.predict(X_guj_SR)\n",
        "print(\"Predictions: {}, Actual Values: {}\".format(yHat[:3], y_test[:3]))"
      ]
    },
    {
      "cell_type": "code",
      "execution_count": null,
      "id": "2ffb5cdf",
      "metadata": {
        "colab": {
          "base_uri": "https://localhost:8080/",
          "height": 279
        },
        "id": "2ffb5cdf",
        "outputId": "f8b85a34-1073-4c7a-c525-3234af346042"
      },
      "outputs": [
        {
          "output_type": "display_data",
          "data": {
            "text/plain": [
              "<Figure size 432x288 with 1 Axes>"
            ],
            "image/png": "[encoded data removed]"
          },
          "metadata": {
            "needs_background": "light"
          }
        }
      ],
      "source": [
        "# Import matplotlib.pyplot\n",
        "import matplotlib.pyplot as plt\n",
        "\n",
        "# Create scatter plot\n",
        "plt.scatter(X_guj_SR, y_guj_SR, color=\"blue\")\n",
        "\n",
        "# Create line plot\n",
        "plt.plot(X_guj_SR, yHat_all, color=\"red\")\n",
        "plt.xlabel(\"URBAN VOTES % in AC\")\n",
        "plt.ylabel(\"BJP Strke Rate\")\n",
        "plt.ylim([0.3, 0.58])\n",
        "# Display the plot\n",
        "plt.show()"
      ]
    },
    {
      "cell_type": "code",
      "execution_count": null,
      "id": "72d51052",
      "metadata": {
        "colab": {
          "base_uri": "https://localhost:8080/"
        },
        "id": "72d51052",
        "outputId": "9630aa49-0488-4eed-e65e-bd8ebdee5878"
      },
      "outputs": [
        {
          "output_type": "stream",
          "name": "stdout",
          "text": [
            "R^2: 0.6180427925370768\n",
            "RMSE: 0.03172601339828332\n"
          ]
        }
      ],
      "source": [
        "# Import mean_squared_error\n",
        "from sklearn.metrics import mean_squared_error\n",
        "\n",
        "# Compute R-squared\n",
        "r_squared = reg.score(X_test, y_test)\n",
        "\n",
        "# Compute RMSE\n",
        "rmse = mean_squared_error(y_test, yHat, squared = False)\n",
        "\n",
        "# Print the metrics\n",
        "print(\"R^2: {}\".format(r_squared))\n",
        "print(\"RMSE: {}\".format(rmse))"
      ]
    },
    {
      "cell_type": "markdown",
      "id": "09165a51",
      "metadata": {
        "id": "09165a51"
      },
      "source": [
        "## PERFORM k-fold CROSS-VALIDATION ON guj_SR DATA USING sklearn"
      ]
    },
    {
      "cell_type": "code",
      "execution_count": null,
      "id": "13c5bd59",
      "metadata": {
        "colab": {
          "base_uri": "https://localhost:8080/"
        },
        "id": "13c5bd59",
        "outputId": "2f59203d-5fe2-4912-fd2d-9ed7956462e6"
      },
      "outputs": [
        {
          "output_type": "stream",
          "name": "stdout",
          "text": [
            "[0.57417779 0.59373461 0.43694698 0.40928123 0.57900019]\n",
            "0.5186281600001252 0.07874018974305431\n",
            "[0.41204781 0.59226116]\n"
          ]
        }
      ],
      "source": [
        "from sklearn.model_selection import cross_val_score, KFold\n",
        "kf = KFold(n_splits = 5, shuffle = True, random_state = 42)\n",
        "reg = LinearRegression()\n",
        "cv_results = cross_val_score(reg, X_guj_SR, y_guj_SR, cv = kf)\n",
        "print(cv_results)\n",
        "print(np.mean(cv_results), np.std(cv_results))\n",
        "print(np.quantile(cv_results, [0.025, 0.975]))"
      ]
    },
    {
      "cell_type": "markdown",
      "id": "8f0fcd10",
      "metadata": {
        "id": "8f0fcd10"
      },
      "source": [
        "# GUJARAT BJP STRIKE RATE WITH POLYNOMIAL AND REGULARISED LINEAR REGRESSION"
      ]
    },
    {
      "cell_type": "markdown",
      "id": "c508fc5e",
      "metadata": {
        "id": "c508fc5e"
      },
      "source": [
        "### Step1 import the numpy, pandas, math and other packages\n",
        "\n",
        "### Step 2 import the csv or excel sheet\n",
        "\n",
        "### Step 3 in case of logistic regression define sigmoid function first\n",
        "\n",
        "### Step 4 feature mapping by polynomial function\n",
        "\n",
        "### Step 5 normalisation of features in case of multiple features of different scales by using z score method\n",
        "\n",
        "### Step 6 compute_cost (logistic) or compute_cost  (linear) and add  regularisation cost function\n",
        "\n",
        "### Step 7 compute_gradient (linear) or compute_gradient (logistic) with regularisation cost\n",
        "\n",
        "### Step 8 compute_gradient_descent\n",
        "\n",
        "### Step 9 Calculate w and b by implementing the gradient_descent function\n",
        "\n",
        "### Step 10 Predict accuracy for logistic regression"
      ]
    },
    {
      "cell_type": "code",
      "execution_count": null,
      "id": "078f935c",
      "metadata": {
        "id": "078f935c"
      },
      "outputs": [],
      "source": [
        "# Step1 import the numpy, pandas, math and other packages\n",
        "\n",
        "import numpy as np\n",
        "import pandas as pd\n",
        "import matplotlib.pyplot as plt\n",
        "import math\n",
        "import statistics"
      ]
    },
    {
      "cell_type": "code",
      "execution_count": null,
      "id": "798e4eca",
      "metadata": {
        "colab": {
          "base_uri": "https://localhost:8080/"
        },
        "id": "798e4eca",
        "outputId": "06bb6587-84a2-46bf-c46f-8b8981237266"
      },
      "outputs": [
        {
          "output_type": "stream",
          "name": "stdout",
          "text": [
            "guj_SR type:  <class 'pandas.core.frame.DataFrame'>\n",
            "guj_SR type:  <class 'numpy.ndarray'>  X_train shape:  (182, 2)\n",
            "(182, 2) (182,)\n",
            "guj_SR type:  <class 'numpy.ndarray'>\n"
          ]
        }
      ],
      "source": [
        "# Step 2 Creat DataFrame\n",
        "\n",
        "guj_SR = pd.read_csv (r\"BJP_StrikeRate_Urban_2017.csv\")\n",
        "\n",
        "# Select the range of Urban Votes\n",
        "guj_SR = guj_SR[guj_SR.URBAN >= 0]\n",
        "guj_SR = guj_SR[guj_SR.URBAN <= 100]\n",
        "\n",
        "# Scale the percentage to proportion of urban votes\n",
        "guj_SR['URBAN'] = (guj_SR['URBAN'] / 100).round(2)\n",
        "\n",
        "# Reset the index and select only the required columns\n",
        "guj_SR = guj_SR.reset_index()\n",
        "guj_SR = guj_SR[[\"BJP_URBAN_SR\", \"URBAN\"]]\n",
        "\n",
        "# ADD NEW FEATURE X^2-IMPORTANT\n",
        "guj_SR['URBAN^2'] = guj_SR['URBAN']**2\n",
        "\n",
        "\n",
        "\n",
        "# Create X_train from the \"URBAN\" values of dataframe guj_SR\n",
        "X_train = guj_SR.drop(\"BJP_URBAN_SR\", axis = 1).values\n",
        "# Create y_train from the \"BJP_URBAN_SR\" values of dataframe guj_SR\n",
        "y_train = guj_SR[\"BJP_URBAN_SR\"].values\n",
        "print(\"guj_SR type:  \" + str(type(guj_SR)))\n",
        "\n",
        "\n",
        "guj_SR = np.array(guj_SR)\n",
        "\n",
        "print(\"guj_SR type:  \" + str(type(guj_SR)) + \"  X_train shape:  \" + str(X_train.shape))\n",
        "\n",
        "\n",
        "# Reshape X\n",
        "# Check shape of X it should be two dimensional otherwise, reshape is rquired for x \n",
        "# only in sklearn by x_train = x_train.reshape(-1,1)\n",
        "\n",
        "# Check the shape of the features and targets\n",
        "print(X_train.shape, y_train.shape)\n",
        "print(\"guj_SR type:  \" + str(type(guj_SR)))"
      ]
    },
    {
      "cell_type": "code",
      "execution_count": null,
      "id": "983259f5",
      "metadata": {
        "id": "983259f5"
      },
      "outputs": [],
      "source": [
        "# Step 4 feature mapping by polynomial function\n",
        "# Step 6 compute_cost (logistic) or compute_cost (linear) and add regularisation cost function\n",
        "\n",
        "def compute_cost(X, y, w, b, lambda_ = 10) :\n",
        "    \"\"\"\n",
        "    to calculate the cost with regularisation and polynomial function\n",
        "    \n",
        "    f_wb = y_hat = w_ij*X_ij + b # Here i is from range m and j is from range n (number of features)\n",
        "    J_wb is total cost i.e summation of all f_wb\n",
        "    \"\"\"\n",
        "    \n",
        "    m, n = X.shape\n",
        "   \n",
        "    cost = 0\n",
        "    \n",
        "    for i in range(m) :\n",
        "        f_wb = 0 # initial value 0 \n",
        "        for j in range(n) :\n",
        "            f_wb_ij = np.dot(X[i][j], w[j])\n",
        "            f_wb += f_wb_ij\n",
        "        \n",
        "        f_wb += b\n",
        "        error = f_wb - y[i]\n",
        "            \n",
        "        cost += error**2\n",
        "    total_cost = 1 / (2 * m) * cost\n",
        "    return total_cost"
      ]
    },
    {
      "cell_type": "code",
      "execution_count": null,
      "id": "a67d6e46",
      "metadata": {
        "id": "a67d6e46"
      },
      "outputs": [],
      "source": [
        "def compute_cost_reg(X, y, w, b, lambda_ = 10):\n",
        "    \"\"\"\n",
        "    Add regularisation cost lambda_/2m *(w[j]^2)\n",
        "    \"\"\"\n",
        "    \n",
        "    m, n = X.shape\n",
        "    # Calls the compute_cost function that you implemented above\n",
        "    cost_without_reg = compute_cost(X, y, w, b) \n",
        "    \n",
        "    reg_cost = 0\n",
        "    \n",
        "    for j in range(n) :\n",
        "        reg_cost_j = w[j]**2\n",
        "        reg_cost += reg_cost_j\n",
        "        \n",
        "    total_cost = cost_without_reg + (lambda_/(2 * m)) * reg_cost\n",
        "    \n",
        "    return total_cost"
      ]
    },
    {
      "cell_type": "code",
      "execution_count": null,
      "id": "4831fb7a",
      "metadata": {
        "id": "4831fb7a"
      },
      "outputs": [],
      "source": [
        "# Step 7 compute_gradient (linear) or compute_gradient (logistic) with regularisation cost\n",
        "\n",
        "def compute_gradient(X, y, w, b, lambda_ = 10) :\n",
        "    \"\"\"\n",
        "     Computes the gradient\n",
        "    Args:\n",
        "      X : (ndarray Shape (m,n)) variable such as house size \n",
        "      y : (array_like Shape (m,1)) actual value \n",
        "      w : (array_like Shape (n,1)) values of parameters of the model      \n",
        "      b : (scalar)                 value of parameter of the model \n",
        "      lambda_: unused placeholder.\n",
        "    Returns\n",
        "      dj_dw: (array_like Shape (n,1)) The gradient of the cost w.r.t. the parameters w. \n",
        "      dj_db: (scalar)                The gradient of the cost w.r.t. the parameter b.  \n",
        "    \n",
        "    \"\"\"\n",
        "    \n",
        "    m, n = X.shape\n",
        "    dj_dw = np.zeros(w.shape)\n",
        "    dj_db = 0.0\n",
        "    \n",
        "    \n",
        "    for i in range(m) :\n",
        "        f_wb = 0\n",
        "        \n",
        "        for j in range(n) :\n",
        "            f_wb_ij = np.dot(X[i, j], w[j])\n",
        "            f_wb += f_wb_ij\n",
        "            \n",
        "        f_wb += b\n",
        "        \n",
        "        error = f_wb - y[i]\n",
        "        dj_db += error\n",
        "        \n",
        "        \n",
        "        for j in range(n) :\n",
        "            dj_dw[j] += error * X[i][j]\n",
        "        \n",
        "        \n",
        "        dj_dw = dj_dw / m\n",
        "        dj_db = dj_db / m\n",
        "        \n",
        "        \n",
        "    return dj_db, dj_dw"
      ]
    },
    {
      "cell_type": "code",
      "execution_count": null,
      "id": "56785f54",
      "metadata": {
        "id": "56785f54"
      },
      "outputs": [],
      "source": [
        "# Add regularisation\n",
        "\n",
        "def compute_gradient_reg(X, y, w, b, lambda_ = 10): \n",
        "    \"\"\"\n",
        "    Computes the gradient for linear regression \n",
        " \n",
        "    Args:\n",
        "      X : (ndarray Shape (m,n))   variable such as house size \n",
        "      y : (ndarray Shape (m,))    actual value \n",
        "      w : (ndarray Shape (n,))    values of parameters of the model      \n",
        "      b : (scalar)                value of parameter of the model  \n",
        "      lambda_ : (scalar,float)    regularization constant\n",
        "    Returns\n",
        "      dj_db: (scalar)             The gradient of the cost w.r.t. the parameter b. \n",
        "      dj_dw: (ndarray Shape (n,)) The gradient of the cost w.r.t. the parameters w. \n",
        "\n",
        "    \"\"\"\n",
        "    m, n = X.shape\n",
        "    \n",
        "    dj_db, dj_dw = compute_gradient(X, y, w, b)\n",
        "\n",
        "    ### START CODE HERE ###     \n",
        "    for j in range(n) :\n",
        "        dj_dw_j_reg = (lambda_/m) * w[j]\n",
        "        dj_dw[j] = dj_dw[j] + dj_dw_j_reg\n",
        "        \n",
        "    ### END CODE HERE ###         \n",
        "        \n",
        "    return dj_db, dj_dw"
      ]
    },
    {
      "cell_type": "code",
      "execution_count": null,
      "id": "6761bfdc",
      "metadata": {
        "id": "6761bfdc"
      },
      "outputs": [],
      "source": [
        "def gradient_descent(X, y, w_in, b_in, cost_function, gradient_function, alpha, num_iters, lambda_ = 10): \n",
        "    \"\"\"\n",
        "    Performs batch gradient descent to learn theta. Updates theta by taking \n",
        "    num_iters gradient steps with learning rate alpha\n",
        "    \n",
        "    Args:\n",
        "      X :    (array_like Shape (m, n)\n",
        "      y :    (array_like Shape (m,))\n",
        "      w_in : (array_like Shape (n,))  Initial values of parameters of the model\n",
        "      b_in : (scalar)                 Initial value of parameter of the model\n",
        "      cost_function:                  function to compute cost\n",
        "      alpha : (float)                 Learning rate\n",
        "      num_iters : (int)               number of iterations to run gradient descent\n",
        "      lambda_ (scalar, float)         regularization constant\n",
        "      \n",
        "    Returns:\n",
        "      w : (array_like Shape (n,)) Updated values of parameters of the model after\n",
        "          running gradient descent\n",
        "      b : (scalar)                Updated value of parameter of the model after\n",
        "          running gradient descent\n",
        "    \"\"\"\n",
        "    \n",
        "    # number of training examples\n",
        "    m = len(X)\n",
        "    \n",
        "    # An array to store cost J and w's at each iteration primarily for graphing later\n",
        "    J_history = []\n",
        "    w_history = []\n",
        "    \n",
        "    for i in range(num_iters):\n",
        "\n",
        "        # Calculate the gradient and update the parameters\n",
        "        dj_db, dj_dw = gradient_function(X, y, w_in, b_in, lambda_)   \n",
        "\n",
        "        # Update Parameters using w, b, alpha and gradient\n",
        "        w_in = w_in - alpha * dj_dw               \n",
        "        b_in = b_in - alpha * dj_db              \n",
        "       \n",
        "        # Save cost J at each iteration\n",
        "        if i<100000:      # prevent resource exhaustion \n",
        "            cost =  cost_function(X, y, w_in, b_in, lambda_)\n",
        "            J_history.append(cost)\n",
        "\n",
        "        # Print cost every at intervals 10 times or as many iterations if < 10\n",
        "        if i% math.ceil(num_iters/10) == 0 or i == (num_iters-1):\n",
        "            w_history.append(w_in)\n",
        "            print(f\"Iteration {i:4}: Cost {float(J_history[-1]):8.2f}   \")\n",
        "        \n",
        "    return w_in, b_in, J_history, w_history #return w and J,w history for graphing"
      ]
    },
    {
      "cell_type": "code",
      "execution_count": null,
      "id": "4869c8d5",
      "metadata": {
        "colab": {
          "base_uri": "https://localhost:8080/"
        },
        "id": "4869c8d5",
        "outputId": "0e352704-e13d-4ae6-c6be-db459a9baefa"
      },
      "outputs": [
        {
          "output_type": "stream",
          "name": "stdout",
          "text": [
            "Iteration    0: Cost     0.19   \n",
            "Iteration 1000: Cost     0.19   \n",
            "Iteration 2000: Cost     0.19   \n",
            "Iteration 3000: Cost     0.18   \n",
            "Iteration 4000: Cost     0.18   \n",
            "Iteration 5000: Cost     0.18   \n",
            "Iteration 6000: Cost     0.17   \n",
            "Iteration 7000: Cost     0.17   \n",
            "Iteration 8000: Cost     0.17   \n",
            "Iteration 9000: Cost     0.16   \n",
            "Iteration 9999: Cost     0.16   \n",
            "[-0.10748377  0.17960326] 0.9702316496451251\n"
          ]
        }
      ],
      "source": [
        "# Initialize fitting parameters\n",
        "np.random.seed(1)\n",
        "initial_w = np.random.rand(X_train.shape[1])-0.5\n",
        "initial_b = 1.\n",
        "\n",
        "# Set regularization parameter lambda_ to 1 (you can try varying this)\n",
        "lambda_ = 1;                                          \n",
        "# Some gradient descent settings\n",
        "iterations = 10000\n",
        "alpha = 0.001\n",
        "\n",
        "w,b, J_history,_ = gradient_descent(X_train, y_train, initial_w, initial_b, \n",
        "                                    compute_cost_reg, compute_gradient_reg, \n",
        "                                    alpha, iterations, lambda_)\n",
        "\n",
        "print(w,b)"
      ]
    },
    {
      "cell_type": "code",
      "execution_count": null,
      "id": "a6af7739",
      "metadata": {
        "id": "a6af7739"
      },
      "outputs": [],
      "source": [
        "# lambda = 1\n",
        "y_hat = np.dot(X_train, w) + b\n",
        "y_hat = y_hat**1/2"
      ]
    },
    {
      "cell_type": "code",
      "execution_count": null,
      "id": "4f66eb42",
      "metadata": {
        "colab": {
          "base_uri": "https://localhost:8080/",
          "height": 300
        },
        "id": "4f66eb42",
        "outputId": "9e59b19f-6fb3-4839-927f-3f321476a40a"
      },
      "outputs": [
        {
          "output_type": "execute_result",
          "data": {
            "text/plain": [
              "[<matplotlib.lines.Line2D at 0x7fcb2c6aed50>,\n",
              " <matplotlib.lines.Line2D at 0x7fcb2c6aef90>]"
            ]
          },
          "metadata": {},
          "execution_count": 33
        },
        {
          "output_type": "display_data",
          "data": {
            "text/plain": [
              "<Figure size 432x288 with 1 Axes>"
            ],
            "image/png": "[encoded data removed]"
          },
          "metadata": {
            "needs_background": "light"
          }
        }
      ],
      "source": [
        "plt.plot(X_train, y_hat)"
      ]
    },
    {
      "cell_type": "code",
      "execution_count": null,
      "id": "bc563b73",
      "metadata": {
        "colab": {
          "base_uri": "https://localhost:8080/"
        },
        "id": "bc563b73",
        "outputId": "9ef1f87c-eb61-4b10-d43a-7767d911ed1b"
      },
      "outputs": [
        {
          "output_type": "stream",
          "name": "stdout",
          "text": [
            "[0, 1]\n"
          ]
        }
      ],
      "source": [
        "x = [0, 1, -2]\n",
        "print(x[:-1])"
      ]
    },
    {
      "cell_type": "code",
      "execution_count": null,
      "id": "34791f23",
      "metadata": {
        "colab": {
          "base_uri": "https://localhost:8080/"
        },
        "id": "34791f23",
        "outputId": "a95f7711-fbb7-4092-a51d-6a8556c92823"
      },
      "outputs": [
        {
          "output_type": "stream",
          "name": "stdout",
          "text": [
            "4\n"
          ]
        }
      ],
      "source": [
        "p = 8\n",
        "q = 4\n",
        "print(p - q)"
      ]
    },
    {
      "cell_type": "code",
      "execution_count": null,
      "id": "4a772043",
      "metadata": {
        "id": "4a772043"
      },
      "outputs": [],
      "source": []
    }
  ],
  "metadata": {
    "kernelspec": {
      "display_name": "Python 3 (ipykernel)",
      "language": "python",
      "name": "python3"
    },
    "language_info": {
      "codemirror_mode": {
        "name": "ipython",
        "version": 3
      },
      "file_extension": ".py",
      "mimetype": "text/x-python",
      "name": "python",
      "nbconvert_exporter": "python",
      "pygments_lexer": "ipython3",
      "version": "3.9.12"
    },
    "colab": {
      "provenance": [],
      "collapsed_sections": [],
      "include_colab_link": true
    }
  },
  "nbformat": 4,
  "nbformat_minor": 5
}